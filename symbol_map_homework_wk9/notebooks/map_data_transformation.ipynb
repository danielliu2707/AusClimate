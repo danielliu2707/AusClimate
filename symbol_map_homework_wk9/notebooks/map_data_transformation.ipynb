{
 "cells": [
  {
   "cell_type": "markdown",
   "metadata": {},
   "source": [
    "# Transformation of map data for proportional symbol map\n",
    "\n",
    "The following code transforms the input weather data into an appropriate form for the proportional symbol map."
   ]
  },
  {
   "cell_type": "code",
   "execution_count": 68,
   "metadata": {},
   "outputs": [],
   "source": [
    "import pandas as pd\n",
    "import numpy as np\n",
    "import os"
   ]
  },
  {
   "cell_type": "code",
   "execution_count": 69,
   "metadata": {},
   "outputs": [],
   "source": [
    "clusters = pd.read_csv(\"data/SuburbClustered.csv\")"
   ]
  },
  {
   "cell_type": "code",
   "execution_count": 35,
   "metadata": {},
   "outputs": [
    {
     "data": {
      "text/html": [
       "<div>\n",
       "<style scoped>\n",
       "    .dataframe tbody tr th:only-of-type {\n",
       "        vertical-align: middle;\n",
       "    }\n",
       "\n",
       "    .dataframe tbody tr th {\n",
       "        vertical-align: top;\n",
       "    }\n",
       "\n",
       "    .dataframe thead th {\n",
       "        text-align: right;\n",
       "    }\n",
       "</style>\n",
       "<table border=\"1\" class=\"dataframe\">\n",
       "  <thead>\n",
       "    <tr style=\"text-align: right;\">\n",
       "      <th></th>\n",
       "      <th>officialnamesuburb</th>\n",
       "      <th>officialnamestate</th>\n",
       "      <th>lattitude</th>\n",
       "      <th>longtitude</th>\n",
       "      <th>clusterid</th>\n",
       "    </tr>\n",
       "  </thead>\n",
       "  <tbody>\n",
       "    <tr>\n",
       "      <th>0</th>\n",
       "      <td>Adaminaby</td>\n",
       "      <td>New South Wales</td>\n",
       "      <td>-36.011932</td>\n",
       "      <td>148.78632</td>\n",
       "      <td>100412</td>\n",
       "    </tr>\n",
       "    <tr>\n",
       "      <th>1</th>\n",
       "      <td>Albury</td>\n",
       "      <td>New South Wales</td>\n",
       "      <td>-36.073698</td>\n",
       "      <td>146.913468</td>\n",
       "      <td>101407</td>\n",
       "    </tr>\n",
       "    <tr>\n",
       "      <th>2</th>\n",
       "      <td>Alectown</td>\n",
       "      <td>New South Wales</td>\n",
       "      <td>-32.914255</td>\n",
       "      <td>148.268021</td>\n",
       "      <td>92411</td>\n",
       "    </tr>\n",
       "    <tr>\n",
       "      <th>3</th>\n",
       "      <td>Alpine</td>\n",
       "      <td>New South Wales</td>\n",
       "      <td>-34.408694</td>\n",
       "      <td>150.536771</td>\n",
       "      <td>96417</td>\n",
       "    </tr>\n",
       "    <tr>\n",
       "      <th>4</th>\n",
       "      <td>Argoon</td>\n",
       "      <td>New South Wales</td>\n",
       "      <td>-34.917979</td>\n",
       "      <td>145.657248</td>\n",
       "      <td>97404</td>\n",
       "    </tr>\n",
       "  </tbody>\n",
       "</table>\n",
       "</div>"
      ],
      "text/plain": [
       "  officialnamesuburb officialnamestate  lattitude  longtitude clusterid\n",
       "0          Adaminaby   New South Wales -36.011932   148.78632    100412\n",
       "1             Albury   New South Wales -36.073698  146.913468    101407\n",
       "2           Alectown   New South Wales -32.914255  148.268021     92411\n",
       "3             Alpine   New South Wales -34.408694  150.536771     96417\n",
       "4             Argoon   New South Wales -34.917979  145.657248     97404"
      ]
     },
     "execution_count": 35,
     "metadata": {},
     "output_type": "execute_result"
    }
   ],
   "source": [
    "# Obtain only relevant columns for clusters\n",
    "clusters = clusters[['officialnamesuburb', 'officialnamestate', 'lattitude', 'longtitude', 'clusterid']]\n",
    "clusters.head()"
   ]
  },
  {
   "cell_type": "code",
   "execution_count": 36,
   "metadata": {},
   "outputs": [
    {
     "data": {
      "text/html": [
       "<div>\n",
       "<style scoped>\n",
       "    .dataframe tbody tr th:only-of-type {\n",
       "        vertical-align: middle;\n",
       "    }\n",
       "\n",
       "    .dataframe tbody tr th {\n",
       "        vertical-align: top;\n",
       "    }\n",
       "\n",
       "    .dataframe thead th {\n",
       "        text-align: right;\n",
       "    }\n",
       "</style>\n",
       "<table border=\"1\" class=\"dataframe\">\n",
       "  <thead>\n",
       "    <tr style=\"text-align: right;\">\n",
       "      <th></th>\n",
       "      <th>officialnamesuburb</th>\n",
       "      <th>officialnamestate</th>\n",
       "      <th>lattitude</th>\n",
       "      <th>longtitude</th>\n",
       "      <th>clusterid</th>\n",
       "    </tr>\n",
       "  </thead>\n",
       "  <tbody>\n",
       "    <tr>\n",
       "      <th>0</th>\n",
       "      <td>Adaminaby</td>\n",
       "      <td>New South Wales</td>\n",
       "      <td>-36.011932</td>\n",
       "      <td>148.78632</td>\n",
       "      <td>100412</td>\n",
       "    </tr>\n",
       "    <tr>\n",
       "      <th>1</th>\n",
       "      <td>Albury</td>\n",
       "      <td>New South Wales</td>\n",
       "      <td>-36.073698</td>\n",
       "      <td>146.913468</td>\n",
       "      <td>101407</td>\n",
       "    </tr>\n",
       "    <tr>\n",
       "      <th>2</th>\n",
       "      <td>Alectown</td>\n",
       "      <td>New South Wales</td>\n",
       "      <td>-32.914255</td>\n",
       "      <td>148.268021</td>\n",
       "      <td>92411</td>\n",
       "    </tr>\n",
       "    <tr>\n",
       "      <th>3</th>\n",
       "      <td>Alpine</td>\n",
       "      <td>New South Wales</td>\n",
       "      <td>-34.408694</td>\n",
       "      <td>150.536771</td>\n",
       "      <td>96417</td>\n",
       "    </tr>\n",
       "    <tr>\n",
       "      <th>4</th>\n",
       "      <td>Argoon</td>\n",
       "      <td>New South Wales</td>\n",
       "      <td>-34.917979</td>\n",
       "      <td>145.657248</td>\n",
       "      <td>97404</td>\n",
       "    </tr>\n",
       "  </tbody>\n",
       "</table>\n",
       "</div>"
      ],
      "text/plain": [
       "  officialnamesuburb officialnamestate  lattitude  longtitude clusterid\n",
       "0          Adaminaby   New South Wales -36.011932   148.78632    100412\n",
       "1             Albury   New South Wales -36.073698  146.913468    101407\n",
       "2           Alectown   New South Wales -32.914255  148.268021     92411\n",
       "3             Alpine   New South Wales -34.408694  150.536771     96417\n",
       "4             Argoon   New South Wales -34.917979  145.657248     97404"
      ]
     },
     "execution_count": 36,
     "metadata": {},
     "output_type": "execute_result"
    }
   ],
   "source": [
    "# Obtain non-duplicate clusters:\n",
    "clusters = clusters.drop_duplicates(subset=\"clusterid\", keep=\"first\")\n",
    "clusters.head()"
   ]
  },
  {
   "cell_type": "code",
   "execution_count": 37,
   "metadata": {},
   "outputs": [],
   "source": [
    "weather_clustered = pd.read_parquet(\"data/WeatherData.parquet\")"
   ]
  },
  {
   "cell_type": "code",
   "execution_count": 38,
   "metadata": {},
   "outputs": [],
   "source": [
    "# Convert datetime into dates:\n",
    "weather_clustered['Datetime'] = pd.to_datetime(weather_clustered['Datetime'])\n",
    "\n",
    "# Filter for only 2023 data:\n",
    "weather_clustered = weather_clustered[weather_clustered['Datetime'].dt.year == 2023]"
   ]
  },
  {
   "cell_type": "code",
   "execution_count": 39,
   "metadata": {},
   "outputs": [],
   "source": [
    "# Get the average temperature, maximum temperature, minimum temperature, total rain:\n",
    "weather_clustered_agg = weather_clustered.groupby(['ClusterID']).agg({'TemperatureMean': ['mean'],\n",
    "                                              'TemperatureMax': ['max'],\n",
    "                                              'TemperatureMin': ['min'],\n",
    "                                              'RainSum': ['sum']}).reset_index().rename(\n",
    "                                                  columns={\"TemperatureMeanmean\": \"TemperatureMean\"}\n",
    "                                              )\n",
    "\n",
    "# Rename columns:\n",
    "weather_clustered_agg.columns = [\n",
    "    'ClusterID',\n",
    "    'AverageTemperature',\n",
    "    'MaxTemperature',\n",
    "    'MinTemperature',\n",
    "    'TotalRainfall'\n",
    "]"
   ]
  },
  {
   "cell_type": "code",
   "execution_count": 40,
   "metadata": {},
   "outputs": [
    {
     "data": {
      "text/html": [
       "<div>\n",
       "<style scoped>\n",
       "    .dataframe tbody tr th:only-of-type {\n",
       "        vertical-align: middle;\n",
       "    }\n",
       "\n",
       "    .dataframe tbody tr th {\n",
       "        vertical-align: top;\n",
       "    }\n",
       "\n",
       "    .dataframe thead th {\n",
       "        text-align: right;\n",
       "    }\n",
       "</style>\n",
       "<table border=\"1\" class=\"dataframe\">\n",
       "  <thead>\n",
       "    <tr style=\"text-align: right;\">\n",
       "      <th></th>\n",
       "      <th>ClusterID</th>\n",
       "      <th>AverageTemperature</th>\n",
       "      <th>MaxTemperature</th>\n",
       "      <th>MinTemperature</th>\n",
       "      <th>TotalRainfall</th>\n",
       "    </tr>\n",
       "  </thead>\n",
       "  <tbody>\n",
       "    <tr>\n",
       "      <th>0</th>\n",
       "      <td>26394</td>\n",
       "      <td>26.620479</td>\n",
       "      <td>31.90</td>\n",
       "      <td>23.1</td>\n",
       "      <td>2020.600002</td>\n",
       "    </tr>\n",
       "    <tr>\n",
       "      <th>1</th>\n",
       "      <td>27395</td>\n",
       "      <td>26.843721</td>\n",
       "      <td>31.05</td>\n",
       "      <td>23.3</td>\n",
       "      <td>2061.800005</td>\n",
       "    </tr>\n",
       "    <tr>\n",
       "      <th>2</th>\n",
       "      <td>27398</td>\n",
       "      <td>26.939732</td>\n",
       "      <td>30.50</td>\n",
       "      <td>23.8</td>\n",
       "      <td>2015.000010</td>\n",
       "    </tr>\n",
       "    <tr>\n",
       "      <th>3</th>\n",
       "      <td>28394</td>\n",
       "      <td>26.807192</td>\n",
       "      <td>30.15</td>\n",
       "      <td>23.1</td>\n",
       "      <td>2090.700012</td>\n",
       "    </tr>\n",
       "    <tr>\n",
       "      <th>4</th>\n",
       "      <td>28396</td>\n",
       "      <td>26.864424</td>\n",
       "      <td>30.10</td>\n",
       "      <td>23.1</td>\n",
       "      <td>1936.000002</td>\n",
       "    </tr>\n",
       "  </tbody>\n",
       "</table>\n",
       "</div>"
      ],
      "text/plain": [
       "   ClusterID  AverageTemperature  MaxTemperature  MinTemperature  \\\n",
       "0      26394           26.620479           31.90            23.1   \n",
       "1      27395           26.843721           31.05            23.3   \n",
       "2      27398           26.939732           30.50            23.8   \n",
       "3      28394           26.807192           30.15            23.1   \n",
       "4      28396           26.864424           30.10            23.1   \n",
       "\n",
       "   TotalRainfall  \n",
       "0    2020.600002  \n",
       "1    2061.800005  \n",
       "2    2015.000010  \n",
       "3    2090.700012  \n",
       "4    1936.000002  "
      ]
     },
     "execution_count": 40,
     "metadata": {},
     "output_type": "execute_result"
    }
   ],
   "source": [
    "weather_clustered_agg.head()"
   ]
  },
  {
   "cell_type": "code",
   "execution_count": 41,
   "metadata": {},
   "outputs": [],
   "source": [
    "# Join clusters onto weather_cluster_agg to obtain latitude and longitude data:\n",
    "weather_clustered_coords = weather_clustered_agg.merge(clusters, how = \"inner\", left_on=\"ClusterID\", right_on=\"clusterid\")"
   ]
  },
  {
   "cell_type": "code",
   "execution_count": 42,
   "metadata": {},
   "outputs": [],
   "source": [
    "# Export final data\n",
    "weather_clustered_coords.to_csv(os.path.join(\"..\", \"data/weather_coord_data.csv\"))"
   ]
  },
  {
   "cell_type": "code",
   "execution_count": 43,
   "metadata": {},
   "outputs": [
    {
     "data": {
      "text/plain": [
       "29.14945369589041"
      ]
     },
     "execution_count": 43,
     "metadata": {},
     "output_type": "execute_result"
    }
   ],
   "source": [
    "weather_clustered_coords['AverageTemperature'].max()"
   ]
  },
  {
   "cell_type": "code",
   "execution_count": 59,
   "metadata": {},
   "outputs": [],
   "source": [
    "weather_coord_final = pd.read_csv(\"../data/weather_coord_data.csv\")"
   ]
  },
  {
   "cell_type": "code",
   "execution_count": 60,
   "metadata": {},
   "outputs": [
    {
     "data": {
      "text/plain": [
       "count    1798.000000\n",
       "mean      625.829089\n",
       "std       426.561239\n",
       "min        35.500000\n",
       "25%       327.400001\n",
       "50%       537.550000\n",
       "75%       781.300003\n",
       "max      3506.100008\n",
       "Name: TotalRainfall, dtype: float64"
      ]
     },
     "execution_count": 60,
     "metadata": {},
     "output_type": "execute_result"
    }
   ],
   "source": [
    "weather_coord_final['TotalRainfall'].describe()"
   ]
  },
  {
   "cell_type": "code",
   "execution_count": 61,
   "metadata": {},
   "outputs": [],
   "source": [
    "# Define a mapping to group the states and territories\n",
    "mapping = {\n",
    "    'Queensland': 'Queensland',\n",
    "    'New South Wales': 'New South Wales',\n",
    "    'Western Australia': 'Western Australia',\n",
    "    'South Australia': 'South Australia',\n",
    "    'Victoria': 'Victoria',\n",
    "    'Northern Territory': 'Northern Territory',\n",
    "    'Tasmania': 'Tasmania',\n",
    "    'New South Wales,Queensland': 'New South Wales',\n",
    "    'New South Wales,Victoria': 'New South Wales',\n",
    "    'Northern Territory,Western Australia': 'Western Australia',\n",
    "    'Northern Territory,Queensland': 'Queensland',\n",
    "    'New South Wales,South Australia': 'New South Wales',\n",
    "    'Australian Capital Territory': 'Australian Capital Territory',\n",
    "    'South Australia,Victoria': 'South Australia',\n",
    "    'Northern Territory,South Australia,Western Australia': 'South Australia',\n",
    "    'South Australia,Western Australia': 'South Australia',\n",
    "    'Other Territories': 'Other Territories'\n",
    "}\n"
   ]
  },
  {
   "cell_type": "code",
   "execution_count": 62,
   "metadata": {},
   "outputs": [
    {
     "data": {
      "text/plain": [
       "Queensland                                              472\n",
       "New South Wales                                         425\n",
       "Western Australia                                       318\n",
       "South Australia                                         223\n",
       "Victoria                                                182\n",
       "Northern Territory                                       94\n",
       "Tasmania                                                 63\n",
       "Other Territories                                         3\n",
       "New South Wales,Queensland                                3\n",
       "New South Wales,Victoria                                  3\n",
       "Northern Territory,Western Australia                      2\n",
       "Northern Territory,Queensland                             2\n",
       "New South Wales,South Australia                           2\n",
       "Australian Capital Territory                              2\n",
       "South Australia,Victoria                                  2\n",
       "Northern Territory,South Australia,Western Australia      1\n",
       "South Australia,Western Australia                         1\n",
       "Name: officialnamestate, dtype: int64"
      ]
     },
     "execution_count": 62,
     "metadata": {},
     "output_type": "execute_result"
    }
   ],
   "source": [
    "weather_coord_final['officialnamestate'].value_counts()"
   ]
  },
  {
   "cell_type": "code",
   "execution_count": 63,
   "metadata": {},
   "outputs": [],
   "source": [
    "# Apply the mapping\n",
    "weather_coord_final['officialnamestate'] = weather_coord_final['officialnamestate'].map(mapping)\n",
    "\n",
    "# Set Mungindi to Queensland:\n",
    "condition = weather_coord_final['officialnamesuburb'] == 'Mungindi (Qld)'\n",
    "weather_coord_final.loc[condition, 'officialnamestate'] = 'Queensland'"
   ]
  },
  {
   "cell_type": "code",
   "execution_count": 64,
   "metadata": {},
   "outputs": [],
   "source": [
    "# Drop other terriorities outside of main Australian land mass:\n",
    "weather_coord_final = weather_coord_final[(weather_coord_final['officialnamestate'] != \"Other Territories\") & (weather_coord_final['officialnamesuburb'] != \"Lord Howe Island\")]"
   ]
  },
  {
   "cell_type": "code",
   "execution_count": 66,
   "metadata": {},
   "outputs": [],
   "source": [
    "# Export final data\n",
    "weather_coord_final.to_csv(os.path.join(\"..\", \"data/weather_final_map_data.csv\"))"
   ]
  },
  {
   "cell_type": "code",
   "execution_count": 67,
   "metadata": {},
   "outputs": [
    {
     "data": {
      "text/plain": [
       "Queensland                      475\n",
       "New South Wales                 431\n",
       "Western Australia               320\n",
       "South Australia                 227\n",
       "Victoria                        182\n",
       "Northern Territory               94\n",
       "Tasmania                         63\n",
       "Australian Capital Territory      2\n",
       "Name: officialnamestate, dtype: int64"
      ]
     },
     "execution_count": 67,
     "metadata": {},
     "output_type": "execute_result"
    }
   ],
   "source": [
    "weather_coord_final['officialnamestate'].value_counts()"
   ]
  },
  {
   "cell_type": "code",
   "execution_count": null,
   "metadata": {},
   "outputs": [],
   "source": []
  }
 ],
 "metadata": {
  "kernelspec": {
   "display_name": "base",
   "language": "python",
   "name": "python3"
  },
  "language_info": {
   "codemirror_mode": {
    "name": "ipython",
    "version": 3
   },
   "file_extension": ".py",
   "mimetype": "text/x-python",
   "name": "python",
   "nbconvert_exporter": "python",
   "pygments_lexer": "ipython3",
   "version": "3.11.4"
  }
 },
 "nbformat": 4,
 "nbformat_minor": 2
}
